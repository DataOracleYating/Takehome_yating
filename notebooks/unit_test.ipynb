{
 "cells": [
  {
   "cell_type": "code",
   "execution_count": 1,
   "id": "d164c669",
   "metadata": {},
   "outputs": [],
   "source": [
    "# import necessary libraries\n",
    "import pandas as pd\n",
    "import numpy as np\n",
    "import unittest\n"
   ]
  },
  {
   "cell_type": "code",
   "execution_count": 2,
   "id": "2e1a54a1",
   "metadata": {},
   "outputs": [],
   "source": [
    "def add_data_to_dataframe(df, data):\n",
    "    \"\"\"\n",
    "    Adds a new row of data to the dataframe.\n",
    "\n",
    "    Parameters:\n",
    "    df (pd.DataFrame): The original dataframe.\n",
    "    data (list): The new data to add. Should have the same number of elements as df has columns.\n",
    "\n",
    "    Returns:\n",
    "    pd.DataFrame: The updated dataframe.\n",
    "    \"\"\"\n",
    "    # Check that data has the correct length\n",
    "    if len(data) != len(df.columns):\n",
    "        raise ValueError(f\"data should have {len(df.columns)} elements\")\n",
    "\n",
    "    # Append the data\n",
    "    new_df = pd.concat([df, pd.DataFrame([data], columns=df.columns)], ignore_index=True)\n",
    "\n",
    "    return new_df\n"
   ]
  },
  {
   "cell_type": "code",
   "execution_count": 3,
   "id": "12b7e81d",
   "metadata": {},
   "outputs": [
    {
     "name": "stderr",
     "output_type": "stream",
     "text": [
      ".\n",
      "----------------------------------------------------------------------\n",
      "Ran 1 test in 0.008s\n",
      "\n",
      "OK\n"
     ]
    },
    {
     "data": {
      "text/plain": [
       "<unittest.runner.TextTestResult run=1 errors=0 failures=0>"
      ]
     },
     "execution_count": 3,
     "metadata": {},
     "output_type": "execute_result"
    }
   ],
   "source": [
    "class TestDataFrameFunctions(unittest.TestCase):\n",
    "    def setUp(self):\n",
    "        self.df = pd.DataFrame({\n",
    "            'A': [1, 2, 3],\n",
    "            'B': [4, 5, 6],\n",
    "            'C': [7, 8, 9]\n",
    "        })\n",
    "\n",
    "    def test_add_data_to_dataframe(self):\n",
    "        new_data = [10, 11, 12]\n",
    "        updated_df = add_data_to_dataframe(self.df, new_data)\n",
    "        self.assertEqual(len(updated_df), len(self.df)+1)\n",
    "        np.testing.assert_array_equal(updated_df.iloc[-1].values, new_data)\n",
    "\n",
    "# Load the test\n",
    "suite = unittest.TestLoader().loadTestsFromTestCase(TestDataFrameFunctions)\n",
    "\n",
    "# Run the test\n",
    "unittest.TextTestRunner().run(suite)\n"
   ]
  },
  {
   "cell_type": "code",
   "execution_count": 4,
   "id": "60e666bd",
   "metadata": {},
   "outputs": [
    {
     "name": "stderr",
     "output_type": "stream",
     "text": [
      "...\n",
      "----------------------------------------------------------------------\n",
      "Ran 3 tests in 0.003s\n",
      "\n",
      "OK\n"
     ]
    },
    {
     "data": {
      "text/plain": [
       "<unittest.runner.TextTestResult run=3 errors=0 failures=0>"
      ]
     },
     "execution_count": 4,
     "metadata": {},
     "output_type": "execute_result"
    }
   ],
   "source": [
    "class TestDataFrameFunctions(unittest.TestCase):\n",
    "    def setUp(self):\n",
    "        self.df = pd.DataFrame({\n",
    "            'A': [1, 2, 3],\n",
    "            'B': [4, 5, 6],\n",
    "            'C': [7, 8, 9]\n",
    "        })\n",
    "\n",
    "    def test_add_data_to_dataframe(self):\n",
    "        new_data = [10, 11, 12]\n",
    "        updated_df = add_data_to_dataframe(self.df, new_data)\n",
    "        self.assertEqual(len(updated_df), len(self.df)+1)\n",
    "        np.testing.assert_array_equal(updated_df.iloc[-1].values, new_data)\n",
    "\n",
    "    def test_add_data_to_dataframe_with_excess_data(self):\n",
    "        new_data = [10, 11, 12, 13]\n",
    "        with self.assertRaises(ValueError):\n",
    "            add_data_to_dataframe(self.df, new_data)\n",
    "\n",
    "    def test_add_data_to_dataframe_with_insufficient_data(self):\n",
    "        new_data = [10, 11]\n",
    "        with self.assertRaises(ValueError):\n",
    "            add_data_to_dataframe(self.df, new_data)\n",
    "\n",
    "\n",
    "# Create a TestSuite object\n",
    "suite = unittest.TestSuite()\n",
    "\n",
    "# Add the tests you want to run\n",
    "suite.addTest(TestDataFrameFunctions('test_add_data_to_dataframe'))\n",
    "suite.addTest(TestDataFrameFunctions('test_add_data_to_dataframe_with_excess_data'))\n",
    "suite.addTest(TestDataFrameFunctions('test_add_data_to_dataframe_with_insufficient_data'))\n",
    "\n",
    "# Create a TestRunner object and run the suite\n",
    "runner = unittest.TextTestRunner()\n",
    "runner.run(suite)\n"
   ]
  }
 ],
 "metadata": {
  "kernelspec": {
   "display_name": "Python 3 (ipykernel)",
   "language": "python",
   "name": "python3"
  },
  "language_info": {
   "codemirror_mode": {
    "name": "ipython",
    "version": 3
   },
   "file_extension": ".py",
   "mimetype": "text/x-python",
   "name": "python",
   "nbconvert_exporter": "python",
   "pygments_lexer": "ipython3",
   "version": "3.10.9"
  },
  "toc": {
   "base_numbering": 1,
   "nav_menu": {},
   "number_sections": false,
   "sideBar": false,
   "skip_h1_title": false,
   "title_cell": "Table of Contents",
   "title_sidebar": "Contents",
   "toc_cell": false,
   "toc_position": {},
   "toc_section_display": true,
   "toc_window_display": false
  }
 },
 "nbformat": 4,
 "nbformat_minor": 5
}
